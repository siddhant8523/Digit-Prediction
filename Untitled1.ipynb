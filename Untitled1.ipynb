{
  "nbformat": 4,
  "nbformat_minor": 0,
  "metadata": {
    "colab": {
      "provenance": [],
      "toc_visible": true
    },
    "kernelspec": {
      "name": "python3",
      "display_name": "Python 3"
    },
    "language_info": {
      "name": "python"
    }
  },
  "cells": [
    {
      "cell_type": "markdown",
      "source": [
        "## **Import Library**"
      ],
      "metadata": {
        "id": "eKkhUsCuGVOA"
      }
    },
    {
      "cell_type": "code",
      "execution_count": 1,
      "metadata": {
        "id": "GRjTDt_3zrzU"
      },
      "outputs": [],
      "source": [
        "import pandas as pd"
      ]
    },
    {
      "cell_type": "code",
      "source": [
        "import numpy as np"
      ],
      "metadata": {
        "id": "SKhlVSYxzzkZ"
      },
      "execution_count": 2,
      "outputs": []
    },
    {
      "cell_type": "code",
      "source": [
        "import matplotlib.pyplot as plt"
      ],
      "metadata": {
        "id": "uciM-pAt0A3O"
      },
      "execution_count": 3,
      "outputs": []
    },
    {
      "cell_type": "markdown",
      "source": [
        "# **Import Data**"
      ],
      "metadata": {
        "id": "x_MOx8wqGkz-"
      }
    },
    {
      "cell_type": "code",
      "source": [
        "from sklearn.datasets import load_digits\n"
      ],
      "metadata": {
        "id": "6RrOOlaV0A8X"
      },
      "execution_count": 5,
      "outputs": []
    },
    {
      "cell_type": "code",
      "source": [
        "df = load_digits()"
      ],
      "metadata": {
        "id": "4tPeUzQV0A_B"
      },
      "execution_count": 6,
      "outputs": []
    },
    {
      "cell_type": "code",
      "source": [
        "_, axes = plt.subplots(nrows=1, ncols=4, figsize =(10,3))\n",
        "for ax, image, lable in zip (axes, df.images, df.target):\n",
        "    ax.set_axis_off()\n",
        "    ax.imshow(image, cmap=plt.cm.gray_r, interpolation=\"nearest\")\n",
        ""
      ],
      "metadata": {
        "colab": {
          "base_uri": "https://localhost:8080/",
          "height": 205
        },
        "id": "azxFXXn80BCc",
        "outputId": "b10f0061-2a8c-4696-9104-c92e705cae2b"
      },
      "execution_count": 38,
      "outputs": [
        {
          "output_type": "display_data",
          "data": {
            "text/plain": [
              "<Figure size 1000x300 with 4 Axes>"
            ],
            "image/png": "[encoded data removed]"
          },
          "metadata": {}
        }
      ]
    },
    {
      "cell_type": "markdown",
      "source": [
        "# **Data Preprocessing**"
      ],
      "metadata": {
        "id": "-BzR_36WH8bG"
      }
    },
    {
      "cell_type": "markdown",
      "source": [
        "Flatten Image"
      ],
      "metadata": {
        "id": "1-0LjMX4IIlR"
      }
    },
    {
      "cell_type": "markdown",
      "source": [
        "![8grda3cp.png](data:image/png;base64,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)"
      ],
      "metadata": {
        "id": "8AHXTXl2INQG"
      }
    },
    {
      "cell_type": "code",
      "source": [
        "df.images.shape"
      ],
      "metadata": {
        "colab": {
          "base_uri": "https://localhost:8080/"
        },
        "id": "hRWHil0q0BJi",
        "outputId": "152bd1db-363b-4798-b80e-af194be62656"
      },
      "execution_count": 25,
      "outputs": [
        {
          "output_type": "execute_result",
          "data": {
            "text/plain": [
              "(1797, 8, 8)"
            ]
          },
          "metadata": {},
          "execution_count": 25
        }
      ]
    },
    {
      "cell_type": "code",
      "source": [
        "df.images[0]"
      ],
      "metadata": {
        "colab": {
          "base_uri": "https://localhost:8080/"
        },
        "id": "DeRvpjC97ofz",
        "outputId": "a072dcd0-86e6-4bfa-85fa-dd161ce58264"
      },
      "execution_count": 26,
      "outputs": [
        {
          "output_type": "execute_result",
          "data": {
            "text/plain": [
              "array([[ 0.,  0.,  5., 13.,  9.,  1.,  0.,  0.],\n",
              "       [ 0.,  0., 13., 15., 10., 15.,  5.,  0.],\n",
              "       [ 0.,  3., 15.,  2.,  0., 11.,  8.,  0.],\n",
              "       [ 0.,  4., 12.,  0.,  0.,  8.,  8.,  0.],\n",
              "       [ 0.,  5.,  8.,  0.,  0.,  9.,  8.,  0.],\n",
              "       [ 0.,  4., 11.,  0.,  1., 12.,  7.,  0.],\n",
              "       [ 0.,  2., 14.,  5., 10., 12.,  0.,  0.],\n",
              "       [ 0.,  0.,  6., 13., 10.,  0.,  0.,  0.]])"
            ]
          },
          "metadata": {},
          "execution_count": 26
        }
      ]
    },
    {
      "cell_type": "code",
      "source": [
        "df.images[0].shape"
      ],
      "metadata": {
        "colab": {
          "base_uri": "https://localhost:8080/"
        },
        "id": "av3nS_KF7ojV",
        "outputId": "ed013c4f-ace6-49b7-b58e-b89a2e481d0d"
      },
      "execution_count": 27,
      "outputs": [
        {
          "output_type": "execute_result",
          "data": {
            "text/plain": [
              "(8, 8)"
            ]
          },
          "metadata": {},
          "execution_count": 27
        }
      ]
    },
    {
      "cell_type": "code",
      "source": [
        "\n",
        "len(df.images)"
      ],
      "metadata": {
        "colab": {
          "base_uri": "https://localhost:8080/"
        },
        "id": "L3h-KFEx7olR",
        "outputId": "3824ed75-55f1-441c-bc5e-d51073fa4f3a"
      },
      "execution_count": 28,
      "outputs": [
        {
          "output_type": "execute_result",
          "data": {
            "text/plain": [
              "1797"
            ]
          },
          "metadata": {},
          "execution_count": 28
        }
      ]
    },
    {
      "cell_type": "code",
      "source": [
        "n_samples =len(df.images)\n",
        "data=df.images.reshape((n_samples,-1))"
      ],
      "metadata": {
        "id": "hr694Cbz7onk"
      },
      "execution_count": 30,
      "outputs": []
    },
    {
      "cell_type": "code",
      "source": [
        "data[0]"
      ],
      "metadata": {
        "colab": {
          "base_uri": "https://localhost:8080/"
        },
        "id": "OwJ4G8A07opD",
        "outputId": "77c19c9d-c6d5-402d-e21d-9362ad0a947d"
      },
      "execution_count": 39,
      "outputs": [
        {
          "output_type": "execute_result",
          "data": {
            "text/plain": [
              "array([ 0.,  0.,  5., 13.,  9.,  1.,  0.,  0.,  0.,  0., 13., 15., 10.,\n",
              "       15.,  5.,  0.,  0.,  3., 15.,  2.,  0., 11.,  8.,  0.,  0.,  4.,\n",
              "       12.,  0.,  0.,  8.,  8.,  0.,  0.,  5.,  8.,  0.,  0.,  9.,  8.,\n",
              "        0.,  0.,  4., 11.,  0.,  1., 12.,  7.,  0.,  0.,  2., 14.,  5.,\n",
              "       10., 12.,  0.,  0.,  0.,  0.,  6., 13., 10.,  0.,  0.,  0.])"
            ]
          },
          "metadata": {},
          "execution_count": 39
        }
      ]
    },
    {
      "cell_type": "code",
      "source": [
        "data[0].shape"
      ],
      "metadata": {
        "colab": {
          "base_uri": "https://localhost:8080/"
        },
        "id": "0GtZdewx7orh",
        "outputId": "7a11012d-7408-4900-a55c-fa5982ede396"
      },
      "execution_count": 40,
      "outputs": [
        {
          "output_type": "execute_result",
          "data": {
            "text/plain": [
              "(64,)"
            ]
          },
          "metadata": {},
          "execution_count": 40
        }
      ]
    },
    {
      "cell_type": "code",
      "source": [
        "data.shape"
      ],
      "metadata": {
        "colab": {
          "base_uri": "https://localhost:8080/"
        },
        "id": "vkIfnhSX7otX",
        "outputId": "ab718031-abab-4074-ac39-e72e532ef461"
      },
      "execution_count": 41,
      "outputs": [
        {
          "output_type": "execute_result",
          "data": {
            "text/plain": [
              "(1797, 64)"
            ]
          },
          "metadata": {},
          "execution_count": 41
        }
      ]
    },
    {
      "cell_type": "markdown",
      "source": [
        "# **Scalling Image Data**"
      ],
      "metadata": {
        "id": "CdHzQEV1Lst7"
      }
    },
    {
      "cell_type": "code",
      "source": [
        "data.min()"
      ],
      "metadata": {
        "colab": {
          "base_uri": "https://localhost:8080/"
        },
        "id": "_NkAEi_87ovG",
        "outputId": "6fdd8358-4f8b-4244-934b-a8ac066a459e"
      },
      "execution_count": 42,
      "outputs": [
        {
          "output_type": "execute_result",
          "data": {
            "text/plain": [
              "0.0"
            ]
          },
          "metadata": {},
          "execution_count": 42
        }
      ]
    },
    {
      "cell_type": "code",
      "source": [
        "data.max()"
      ],
      "metadata": {
        "colab": {
          "base_uri": "https://localhost:8080/"
        },
        "id": "ZF_glDZ-7oyc",
        "outputId": "d23061a9-fcf0-41b6-f2e7-873b0cc9a6ef"
      },
      "execution_count": 43,
      "outputs": [
        {
          "output_type": "execute_result",
          "data": {
            "text/plain": [
              "16.0"
            ]
          },
          "metadata": {},
          "execution_count": 43
        }
      ]
    },
    {
      "cell_type": "code",
      "source": [
        "data=data/16"
      ],
      "metadata": {
        "id": "QmOIkA-z-kDB"
      },
      "execution_count": 44,
      "outputs": []
    },
    {
      "cell_type": "code",
      "source": [
        "data.max()\n"
      ],
      "metadata": {
        "colab": {
          "base_uri": "https://localhost:8080/"
        },
        "id": "M4lImv0I-kFQ",
        "outputId": "51bd5cf6-3677-4039-998b-505c948c1111"
      },
      "execution_count": 45,
      "outputs": [
        {
          "output_type": "execute_result",
          "data": {
            "text/plain": [
              "1.0"
            ]
          },
          "metadata": {},
          "execution_count": 45
        }
      ]
    },
    {
      "cell_type": "code",
      "source": [
        "data[0]"
      ],
      "metadata": {
        "colab": {
          "base_uri": "https://localhost:8080/"
        },
        "id": "ul8f_2nq-kHd",
        "outputId": "e28ee465-11ea-4aa4-b48c-4f0ba1e513f5"
      },
      "execution_count": 46,
      "outputs": [
        {
          "output_type": "execute_result",
          "data": {
            "text/plain": [
              "array([0.    , 0.    , 0.3125, 0.8125, 0.5625, 0.0625, 0.    , 0.    ,\n",
              "       0.    , 0.    , 0.8125, 0.9375, 0.625 , 0.9375, 0.3125, 0.    ,\n",
              "       0.    , 0.1875, 0.9375, 0.125 , 0.    , 0.6875, 0.5   , 0.    ,\n",
              "       0.    , 0.25  , 0.75  , 0.    , 0.    , 0.5   , 0.5   , 0.    ,\n",
              "       0.    , 0.3125, 0.5   , 0.    , 0.    , 0.5625, 0.5   , 0.    ,\n",
              "       0.    , 0.25  , 0.6875, 0.    , 0.0625, 0.75  , 0.4375, 0.    ,\n",
              "       0.    , 0.125 , 0.875 , 0.3125, 0.625 , 0.75  , 0.    , 0.    ,\n",
              "       0.    , 0.    , 0.375 , 0.8125, 0.625 , 0.    , 0.    , 0.    ])"
            ]
          },
          "metadata": {},
          "execution_count": 46
        }
      ]
    },
    {
      "cell_type": "markdown",
      "source": [
        "# **Train Test split Data**"
      ],
      "metadata": {
        "id": "hrP1LwIXL4GK"
      }
    },
    {
      "cell_type": "code",
      "source": [
        "from sklearn.model_selection import train_test_split"
      ],
      "metadata": {
        "id": "_Kfu3oSs-kJ2"
      },
      "execution_count": 47,
      "outputs": []
    },
    {
      "cell_type": "code",
      "source": [
        "x_train,x_test,y_train,y_test =train_test_split(data, df.target, test_size=0.3)"
      ],
      "metadata": {
        "id": "n-hCecWD-kMz"
      },
      "execution_count": 49,
      "outputs": []
    },
    {
      "cell_type": "code",
      "source": [
        "x_train.shape,x_test.shape,y_train.shape,y_test.shape"
      ],
      "metadata": {
        "colab": {
          "base_uri": "https://localhost:8080/"
        },
        "id": "JchfOKjc_I00",
        "outputId": "3d60c8c6-747a-436c-a682-e06b0636d851"
      },
      "execution_count": 50,
      "outputs": [
        {
          "output_type": "execute_result",
          "data": {
            "text/plain": [
              "((1257, 64), (540, 64), (1257,), (540,))"
            ]
          },
          "metadata": {},
          "execution_count": 50
        }
      ]
    },
    {
      "cell_type": "markdown",
      "source": [
        "# **Random Forest Model**"
      ],
      "metadata": {
        "id": "w2xzqXFqMEk3"
      }
    },
    {
      "cell_type": "code",
      "source": [
        "from sklearn.ensemble import RandomForestClassifier"
      ],
      "metadata": {
        "id": "j-4IHzES_I4S"
      },
      "execution_count": 51,
      "outputs": []
    },
    {
      "cell_type": "code",
      "source": [
        "rf=RandomForestClassifier()"
      ],
      "metadata": {
        "id": "s50qHcsu_I66"
      },
      "execution_count": 52,
      "outputs": []
    },
    {
      "cell_type": "code",
      "source": [
        "rf.fit(x_train,y_train)"
      ],
      "metadata": {
        "colab": {
          "base_uri": "https://localhost:8080/",
          "height": 75
        },
        "id": "DIddrLlD_I-N",
        "outputId": "f0c48616-3b6f-43ff-c796-4be5a42abd13"
      },
      "execution_count": 53,
      "outputs": [
        {
          "output_type": "execute_result",
          "data": {
            "text/plain": [
              "RandomForestClassifier()"
            ],
            "text/html": [
              "<style>#sk-container-id-1 {color: black;background-color: white;}#sk-container-id-1 pre{padding: 0;}#sk-container-id-1 div.sk-toggleable {background-color: white;}#sk-container-id-1 label.sk-toggleable__label {cursor: pointer;display: block;width: 100%;margin-bottom: 0;padding: 0.3em;box-sizing: border-box;text-align: center;}#sk-container-id-1 label.sk-toggleable__label-arrow:before {content: \"▸\";float: left;margin-right: 0.25em;color: #696969;}#sk-container-id-1 label.sk-toggleable__label-arrow:hover:before {color: black;}#sk-container-id-1 div.sk-estimator:hover label.sk-toggleable__label-arrow:before {color: black;}#sk-container-id-1 div.sk-toggleable__content {max-height: 0;max-width: 0;overflow: hidden;text-align: left;background-color: #f0f8ff;}#sk-container-id-1 div.sk-toggleable__content pre {margin: 0.2em;color: black;border-radius: 0.25em;background-color: #f0f8ff;}#sk-container-id-1 input.sk-toggleable__control:checked~div.sk-toggleable__content {max-height: 200px;max-width: 100%;overflow: auto;}#sk-container-id-1 input.sk-toggleable__control:checked~label.sk-toggleable__label-arrow:before {content: \"▾\";}#sk-container-id-1 div.sk-estimator input.sk-toggleable__control:checked~label.sk-toggleable__label {background-color: #d4ebff;}#sk-container-id-1 div.sk-label input.sk-toggleable__control:checked~label.sk-toggleable__label {background-color: #d4ebff;}#sk-container-id-1 input.sk-hidden--visually {border: 0;clip: rect(1px 1px 1px 1px);clip: rect(1px, 1px, 1px, 1px);height: 1px;margin: -1px;overflow: hidden;padding: 0;position: absolute;width: 1px;}#sk-container-id-1 div.sk-estimator {font-family: monospace;background-color: #f0f8ff;border: 1px dotted black;border-radius: 0.25em;box-sizing: border-box;margin-bottom: 0.5em;}#sk-container-id-1 div.sk-estimator:hover {background-color: #d4ebff;}#sk-container-id-1 div.sk-parallel-item::after {content: \"\";width: 100%;border-bottom: 1px solid gray;flex-grow: 1;}#sk-container-id-1 div.sk-label:hover label.sk-toggleable__label {background-color: #d4ebff;}#sk-container-id-1 div.sk-serial::before {content: \"\";position: absolute;border-left: 1px solid gray;box-sizing: border-box;top: 0;bottom: 0;left: 50%;z-index: 0;}#sk-container-id-1 div.sk-serial {display: flex;flex-direction: column;align-items: center;background-color: white;padding-right: 0.2em;padding-left: 0.2em;position: relative;}#sk-container-id-1 div.sk-item {position: relative;z-index: 1;}#sk-container-id-1 div.sk-parallel {display: flex;align-items: stretch;justify-content: center;background-color: white;position: relative;}#sk-container-id-1 div.sk-item::before, #sk-container-id-1 div.sk-parallel-item::before {content: \"\";position: absolute;border-left: 1px solid gray;box-sizing: border-box;top: 0;bottom: 0;left: 50%;z-index: -1;}#sk-container-id-1 div.sk-parallel-item {display: flex;flex-direction: column;z-index: 1;position: relative;background-color: white;}#sk-container-id-1 div.sk-parallel-item:first-child::after {align-self: flex-end;width: 50%;}#sk-container-id-1 div.sk-parallel-item:last-child::after {align-self: flex-start;width: 50%;}#sk-container-id-1 div.sk-parallel-item:only-child::after {width: 0;}#sk-container-id-1 div.sk-dashed-wrapped {border: 1px dashed gray;margin: 0 0.4em 0.5em 0.4em;box-sizing: border-box;padding-bottom: 0.4em;background-color: white;}#sk-container-id-1 div.sk-label label {font-family: monospace;font-weight: bold;display: inline-block;line-height: 1.2em;}#sk-container-id-1 div.sk-label-container {text-align: center;}#sk-container-id-1 div.sk-container {/* jupyter's `normalize.less` sets `[hidden] { display: none; }` but bootstrap.min.css set `[hidden] { display: none !important; }` so we also need the `!important` here to be able to override the default hidden behavior on the sphinx rendered scikit-learn.org. See: https://github.com/scikit-learn/scikit-learn/issues/21755 */display: inline-block !important;position: relative;}#sk-container-id-1 div.sk-text-repr-fallback {display: none;}</style><div id=\"sk-container-id-1\" class=\"sk-top-container\"><div class=\"sk-text-repr-fallback\"><pre>RandomForestClassifier()</pre><b>In a Jupyter environment, please rerun this cell to show the HTML representation or trust the notebook. <br />On GitHub, the HTML representation is unable to render, please try loading this page with nbviewer.org.</b></div><div class=\"sk-container\" hidden><div class=\"sk-item\"><div class=\"sk-estimator sk-toggleable\"><input class=\"sk-toggleable__control sk-hidden--visually\" id=\"sk-estimator-id-1\" type=\"checkbox\" checked><label for=\"sk-estimator-id-1\" class=\"sk-toggleable__label sk-toggleable__label-arrow\">RandomForestClassifier</label><div class=\"sk-toggleable__content\"><pre>RandomForestClassifier()</pre></div></div></div></div></div>"
            ]
          },
          "metadata": {},
          "execution_count": 53
        }
      ]
    },
    {
      "cell_type": "markdown",
      "source": [
        "# **Predict Test Data**"
      ],
      "metadata": {
        "id": "Q2JCY-IuMSZb"
      }
    },
    {
      "cell_type": "code",
      "source": [
        "y_pred = rf.predict(x_test)"
      ],
      "metadata": {
        "id": "tVJxFFlW_JEy"
      },
      "execution_count": 58,
      "outputs": []
    },
    {
      "cell_type": "code",
      "source": [
        "y_pred"
      ],
      "metadata": {
        "colab": {
          "base_uri": "https://localhost:8080/"
        },
        "id": "T6q8cQYTA5kE",
        "outputId": "e2da283b-cf8d-4e39-d8d6-072ac00cc0e8"
      },
      "execution_count": 61,
      "outputs": [
        {
          "output_type": "execute_result",
          "data": {
            "text/plain": [
              "array([0, 4, 9, 5, 1, 6, 2, 6, 0, 1, 8, 0, 2, 4, 2, 3, 6, 5, 9, 5, 8, 0,\n",
              "       4, 0, 2, 3, 6, 7, 1, 0, 9, 4, 4, 6, 7, 2, 2, 0, 1, 7, 5, 6, 2, 7,\n",
              "       9, 4, 7, 3, 1, 0, 3, 7, 8, 7, 0, 3, 7, 0, 5, 4, 3, 9, 0, 7, 9, 4,\n",
              "       6, 4, 2, 4, 8, 7, 8, 8, 4, 4, 6, 5, 8, 2, 9, 2, 6, 2, 1, 8, 2, 1,\n",
              "       0, 6, 6, 7, 6, 8, 0, 4, 7, 6, 8, 4, 2, 9, 6, 1, 0, 0, 1, 6, 3, 6,\n",
              "       9, 9, 8, 8, 7, 2, 6, 6, 3, 2, 4, 6, 6, 8, 2, 5, 7, 0, 1, 6, 8, 4,\n",
              "       9, 2, 7, 5, 3, 9, 7, 1, 2, 5, 6, 2, 8, 4, 3, 3, 1, 7, 1, 7, 9, 5,\n",
              "       4, 0, 7, 7, 7, 7, 2, 5, 8, 8, 2, 7, 6, 9, 5, 2, 0, 0, 7, 5, 0, 2,\n",
              "       4, 6, 4, 8, 4, 0, 5, 0, 9, 9, 3, 6, 5, 0, 5, 0, 5, 5, 0, 5, 2, 6,\n",
              "       9, 5, 2, 1, 8, 8, 9, 5, 1, 9, 9, 2, 3, 5, 3, 5, 7, 7, 7, 2, 5, 6,\n",
              "       7, 7, 7, 8, 8, 2, 1, 1, 9, 9, 9, 3, 8, 3, 2, 6, 3, 0, 8, 7, 3, 8,\n",
              "       0, 4, 5, 3, 3, 0, 5, 6, 0, 2, 1, 2, 2, 9, 9, 5, 7, 9, 4, 8, 6, 6,\n",
              "       6, 6, 6, 9, 6, 9, 6, 1, 7, 3, 1, 1, 1, 1, 8, 0, 1, 4, 4, 5, 8, 2,\n",
              "       7, 0, 8, 3, 6, 7, 0, 3, 9, 4, 1, 1, 3, 5, 4, 6, 7, 2, 9, 8, 6, 4,\n",
              "       8, 5, 2, 5, 6, 2, 0, 3, 1, 3, 6, 5, 3, 5, 2, 4, 6, 2, 1, 5, 3, 9,\n",
              "       7, 2, 7, 1, 4, 9, 6, 5, 7, 4, 5, 6, 4, 3, 5, 7, 1, 7, 2, 8, 5, 5,\n",
              "       9, 9, 2, 9, 2, 6, 4, 4, 5, 6, 7, 2, 5, 3, 8, 1, 4, 1, 8, 3, 2, 5,\n",
              "       5, 4, 8, 3, 1, 9, 9, 1, 6, 4, 4, 5, 7, 4, 1, 9, 3, 1, 6, 1, 5, 8,\n",
              "       2, 8, 2, 5, 6, 9, 8, 8, 8, 6, 9, 6, 1, 6, 4, 0, 6, 5, 6, 9, 5, 2,\n",
              "       4, 5, 6, 4, 7, 4, 4, 9, 3, 0, 6, 8, 1, 7, 0, 3, 9, 6, 4, 3, 1, 3,\n",
              "       7, 6, 2, 8, 0, 4, 9, 2, 1, 2, 9, 1, 4, 5, 8, 9, 9, 1, 1, 3, 2, 3,\n",
              "       0, 7, 0, 2, 9, 9, 3, 6, 8, 0, 7, 3, 1, 9, 4, 5, 2, 0, 6, 3, 4, 1,\n",
              "       5, 2, 4, 0, 0, 1, 5, 2, 9, 6, 0, 8, 4, 3, 9, 8, 7, 7, 3, 2, 9, 6,\n",
              "       7, 6, 7, 2, 4, 1, 0, 7, 1, 7, 1, 7, 4, 4, 6, 9, 3, 7, 4, 2, 6, 8,\n",
              "       7, 5, 6, 0, 7, 4, 6, 5, 0, 4, 6, 6])"
            ]
          },
          "metadata": {},
          "execution_count": 61
        }
      ]
    },
    {
      "cell_type": "markdown",
      "source": [
        "## **Model Accuracy**"
      ],
      "metadata": {
        "id": "V2nefLA5Mddq"
      }
    },
    {
      "cell_type": "code",
      "source": [
        "from sklearn.metrics import confusion_matrix, classification_report"
      ],
      "metadata": {
        "id": "fj9aKud9A5mN"
      },
      "execution_count": 72,
      "outputs": []
    },
    {
      "cell_type": "code",
      "source": [
        "confusion_matrix(y_test, y_pred)"
      ],
      "metadata": {
        "colab": {
          "base_uri": "https://localhost:8080/"
        },
        "id": "jAVVdijhA5n4",
        "outputId": "2b1897ad-1a7d-4299-c038-e808dada5a0f"
      },
      "execution_count": 79,
      "outputs": [
        {
          "output_type": "execute_result",
          "data": {
            "text/plain": [
              "array([[47,  0,  0,  0,  0,  0,  0,  0,  0,  0],\n",
              "       [ 0, 49,  0,  0,  0,  0,  0,  0,  0,  0],\n",
              "       [ 0,  0, 58,  0,  0,  0,  0,  0,  0,  0],\n",
              "       [ 0,  0,  0, 45,  0,  0,  0,  0,  0,  0],\n",
              "       [ 0,  0,  0,  0, 57,  0,  0,  1,  0,  0],\n",
              "       [ 0,  0,  0,  0,  0, 54,  0,  0,  0,  0],\n",
              "       [ 0,  1,  0,  0,  0,  0, 69,  0,  0,  0],\n",
              "       [ 0,  0,  0,  0,  0,  0,  0, 56,  0,  0],\n",
              "       [ 0,  0,  0,  0,  0,  0,  0,  1, 47,  0],\n",
              "       [ 0,  0,  0,  0,  0,  1,  0,  0,  0, 54]])"
            ]
          },
          "metadata": {},
          "execution_count": 79
        }
      ]
    },
    {
      "cell_type": "code",
      "source": [
        "print(classification_report(y_test, y_pred))"
      ],
      "metadata": {
        "colab": {
          "base_uri": "https://localhost:8080/"
        },
        "id": "20Dzc_W3A5qo",
        "outputId": "4b40f845-565d-4cd5-decb-400b30edc4d5"
      },
      "execution_count": 81,
      "outputs": [
        {
          "output_type": "stream",
          "name": "stdout",
          "text": [
            "              precision    recall  f1-score   support\n",
            "\n",
            "           0       1.00      1.00      1.00        47\n",
            "           1       0.98      1.00      0.99        49\n",
            "           2       1.00      1.00      1.00        58\n",
            "           3       1.00      1.00      1.00        45\n",
            "           4       1.00      0.98      0.99        58\n",
            "           5       0.98      1.00      0.99        54\n",
            "           6       1.00      0.99      0.99        70\n",
            "           7       0.97      1.00      0.98        56\n",
            "           8       1.00      0.98      0.99        48\n",
            "           9       1.00      0.98      0.99        55\n",
            "\n",
            "    accuracy                           0.99       540\n",
            "   macro avg       0.99      0.99      0.99       540\n",
            "weighted avg       0.99      0.99      0.99       540\n",
            "\n"
          ]
        }
      ]
    }
  ]
}